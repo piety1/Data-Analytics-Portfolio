{
 "cells": [
  {
   "cell_type": "markdown",
   "id": "ec34dfcb",
   "metadata": {},
   "source": [
    "# Task 2: Sentiment Analysis Using Neural Networks\n",
    "\n",
    "Alex Rivera ID#011243153\n",
    "\n",
    "Western Governors University\n",
    "\n",
    "D213 - Advanced Data Analytics\n",
    "\n",
    "January 09, 2024\n",
    "\n",
    "## A1: Research Question\n",
    "\n",
    "The research question for this project is, \"Can implementing a neural network for sentiment analysis significantly\n",
    "predict customer sentiment?\"\n",
    "\n",
    "## A2: Objectives Or Goals\n",
    "\n",
    "The main objective of the project is to implement a sentiment analysis utilizing neural networks. The goal of the sentiment analysis is to significantly predict customer sentiment with a classification accuracy of 80%. Identifying patterns from customer reviews will lead to a better understanding of the customers and recommendations. \n",
    "\n",
    "## A3: Prescribed Network\n",
    "\n",
    "Recurrent neural networks are a type of neural network that is widely used for natural language processing and classification tasks. The Analytics Vidhya article highlighted that there are multiple types of neural networks that could lead to implementing the wrong neural network that does not match the expectations. Opposed to other neural networks Talaviya stated:\n",
    "\n",
    "    Recurrent neural networks process sequences by iterating through the sequence elements and maintaining a state containing information relative to what it has seen so far. In effect, an RNN is a type of neural network that has an internal loop (Talaviya, 2023).\n",
    "\n",
    "The difference in the internal loop allows the RNN to capture the context of the sequences that are being processed. \n",
    "\n",
    "## B1: Data Exploration"
   ]
  },
  {
   "cell_type": "code",
   "execution_count": 1,
   "id": "1df8578a",
   "metadata": {},
   "outputs": [
    {
     "name": "stdout",
     "output_type": "stream",
     "text": [
      "WARNING:tensorflow:From C:\\Users\\alexa\\anaconda3\\lib\\site-packages\\keras\\src\\losses.py:2976: The name tf.losses.sparse_softmax_cross_entropy is deprecated. Please use tf.compat.v1.losses.sparse_softmax_cross_entropy instead.\n",
      "\n"
     ]
    },
    {
     "name": "stderr",
     "output_type": "stream",
     "text": [
      "[nltk_data] Downloading package stopwords to\n",
      "[nltk_data]     C:\\Users\\alexa\\AppData\\Roaming\\nltk_data...\n",
      "[nltk_data]   Package stopwords is already up-to-date!\n"
     ]
    }
   ],
   "source": [
    "#Importing necessary packages for the Time Series project \n",
    "import pandas as pd \n",
    "import numpy as np\n",
    "import re\n",
    "import tensorflow as tf\n",
    "from tensorflow.keras.preprocessing.text import Tokenizer\n",
    "import nltk\n",
    "nltk.download('stopwords')\n",
    "from nltk.stem import WordNetLemmatizer\n",
    "from nltk.corpus import stopwords\n",
    "from tensorflow.keras.preprocessing import sequence\n",
    "from sklearn.model_selection import train_test_split\n",
    "from keras.models import Sequential\n",
    "from keras.layers import Embedding, Flatten, Dense, Bidirectional, LSTM\n",
    "from tensorflow.keras.callbacks import EarlyStopping\n",
    "import matplotlib.pyplot as plt\n",
    "from sklearn.metrics import confusion_matrix"
   ]
  },
  {
   "cell_type": "code",
   "execution_count": 2,
   "id": "d771f70b",
   "metadata": {},
   "outputs": [],
   "source": [
    "Amazon = pd.read_csv('C:/Users/alexa/WGU/D213/Project/sentiment labelled sentences/amazon_cells_labelled.txt',\n",
    "                     sep='\\t', header=None, names=['Reviews','Sentiment'])"
   ]
  },
  {
   "cell_type": "code",
   "execution_count": 3,
   "id": "3da2ae8e",
   "metadata": {},
   "outputs": [
    {
     "name": "stdout",
     "output_type": "stream",
     "text": [
      "<class 'pandas.core.frame.DataFrame'>\n",
      "RangeIndex: 1000 entries, 0 to 999\n",
      "Data columns (total 2 columns):\n",
      " #   Column     Non-Null Count  Dtype \n",
      "---  ------     --------------  ----- \n",
      " 0   Reviews    1000 non-null   object\n",
      " 1   Sentiment  1000 non-null   int64 \n",
      "dtypes: int64(1), object(1)\n",
      "memory usage: 15.8+ KB\n"
     ]
    }
   ],
   "source": [
    "Amazon.info()"
   ]
  },
  {
   "cell_type": "code",
   "execution_count": 4,
   "id": "ca907599",
   "metadata": {},
   "outputs": [
    {
     "data": {
      "text/html": [
       "<div>\n",
       "<style scoped>\n",
       "    .dataframe tbody tr th:only-of-type {\n",
       "        vertical-align: middle;\n",
       "    }\n",
       "\n",
       "    .dataframe tbody tr th {\n",
       "        vertical-align: top;\n",
       "    }\n",
       "\n",
       "    .dataframe thead th {\n",
       "        text-align: right;\n",
       "    }\n",
       "</style>\n",
       "<table border=\"1\" class=\"dataframe\">\n",
       "  <thead>\n",
       "    <tr style=\"text-align: right;\">\n",
       "      <th></th>\n",
       "      <th>Reviews</th>\n",
       "      <th>Sentiment</th>\n",
       "    </tr>\n",
       "  </thead>\n",
       "  <tbody>\n",
       "    <tr>\n",
       "      <th>0</th>\n",
       "      <td>So there is no way for me to plug it in here i...</td>\n",
       "      <td>0</td>\n",
       "    </tr>\n",
       "    <tr>\n",
       "      <th>1</th>\n",
       "      <td>Good case, Excellent value.</td>\n",
       "      <td>1</td>\n",
       "    </tr>\n",
       "    <tr>\n",
       "      <th>2</th>\n",
       "      <td>Great for the jawbone.</td>\n",
       "      <td>1</td>\n",
       "    </tr>\n",
       "    <tr>\n",
       "      <th>3</th>\n",
       "      <td>Tied to charger for conversations lasting more...</td>\n",
       "      <td>0</td>\n",
       "    </tr>\n",
       "    <tr>\n",
       "      <th>4</th>\n",
       "      <td>The mic is great.</td>\n",
       "      <td>1</td>\n",
       "    </tr>\n",
       "    <tr>\n",
       "      <th>...</th>\n",
       "      <td>...</td>\n",
       "      <td>...</td>\n",
       "    </tr>\n",
       "    <tr>\n",
       "      <th>995</th>\n",
       "      <td>The screen does get smudged easily because it ...</td>\n",
       "      <td>0</td>\n",
       "    </tr>\n",
       "    <tr>\n",
       "      <th>996</th>\n",
       "      <td>What a piece of junk.. I lose more calls on th...</td>\n",
       "      <td>0</td>\n",
       "    </tr>\n",
       "    <tr>\n",
       "      <th>997</th>\n",
       "      <td>Item Does Not Match Picture.</td>\n",
       "      <td>0</td>\n",
       "    </tr>\n",
       "    <tr>\n",
       "      <th>998</th>\n",
       "      <td>The only thing that disappoint me is the infra...</td>\n",
       "      <td>0</td>\n",
       "    </tr>\n",
       "    <tr>\n",
       "      <th>999</th>\n",
       "      <td>You can not answer calls with the unit, never ...</td>\n",
       "      <td>0</td>\n",
       "    </tr>\n",
       "  </tbody>\n",
       "</table>\n",
       "<p>1000 rows × 2 columns</p>\n",
       "</div>"
      ],
      "text/plain": [
       "                                               Reviews  Sentiment\n",
       "0    So there is no way for me to plug it in here i...          0\n",
       "1                          Good case, Excellent value.          1\n",
       "2                               Great for the jawbone.          1\n",
       "3    Tied to charger for conversations lasting more...          0\n",
       "4                                    The mic is great.          1\n",
       "..                                                 ...        ...\n",
       "995  The screen does get smudged easily because it ...          0\n",
       "996  What a piece of junk.. I lose more calls on th...          0\n",
       "997                       Item Does Not Match Picture.          0\n",
       "998  The only thing that disappoint me is the infra...          0\n",
       "999  You can not answer calls with the unit, never ...          0\n",
       "\n",
       "[1000 rows x 2 columns]"
      ]
     },
     "execution_count": 4,
     "metadata": {},
     "output_type": "execute_result"
    }
   ],
   "source": [
    "Amazon"
   ]
  },
  {
   "cell_type": "markdown",
   "id": "53867320",
   "metadata": {},
   "source": [
    "### Presence of unusual characters\n",
    "\n",
    "One of the first data exploration tasks implemented was checking for the presence of unusual characters. Checking the presence of any usual characters is beneficial ahead of tokenization. The review's characters were iterated over and appended to a list for review. The output of the characters are printed below. "
   ]
  },
  {
   "cell_type": "code",
   "execution_count": 5,
   "id": "16d7166b",
   "metadata": {},
   "outputs": [
    {
     "name": "stdout",
     "output_type": "stream",
     "text": [
      "['S', 'o', ' ', 't', 'h', 'e', 'r', 'i', 's', 'n', 'w', 'a', 'y', 'f', 'm', 'p', 'l', 'u', 'g', 'U', 'I', 'b', 'c', 'v', '.', 'G', 'd', ',', 'E', 'x', 'j', 'T', '4', '5', 'M', 'A', 'J', 'O', 'R', 'P', 'B', 'L', '!', 'z', 'N', 'W', 'q', 'H', '+', 'V', '\"', 'Y', 'D', 'F', 'k', \"'\", 'K', 'C', '/', '7', '3', '6', '8', '0', '2', '?', 'Z', '-', '1', ':', ')', '(', 'Q', '&', '$', '*', ';', 'X', '%', '9', '#', '[', ']']\n"
     ]
    }
   ],
   "source": [
    "#Webniar referenced for unusual character code(Elleh, 2022)\n",
    "list_of_characters = []\n",
    "for review in Amazon['Reviews']:\n",
    "    for character in review:\n",
    "        if character not in list_of_characters:\n",
    "            list_of_characters.append(character)\n",
    "print(list_of_characters)"
   ]
  },
  {
   "cell_type": "markdown",
   "id": "731b0062",
   "metadata": {},
   "source": [
    "### Vocabulary size\n",
    "\n",
    "The tokenizer class was implemented on the Reviews column of the dataset. The unique and tokenized vocabulary size was found to be 1,879. "
   ]
  },
  {
   "cell_type": "code",
   "execution_count": 6,
   "id": "c52273d5",
   "metadata": {},
   "outputs": [
    {
     "name": "stdout",
     "output_type": "stream",
     "text": [
      "Vocabulary size:  1879\n"
     ]
    }
   ],
   "source": [
    "#Webniar referenced for vocabulary size code(Elleh, 2022)\n",
    "tokenizer = Tokenizer()\n",
    "tokenizer.fit_on_texts(Amazon['Reviews'])\n",
    "print(\"Vocabulary size: \", len(tokenizer.word_index) + 1)"
   ]
  },
  {
   "cell_type": "markdown",
   "id": "6f8c0da2",
   "metadata": {},
   "source": [
    "### Proposed word embedding length\n",
    "\n",
    "Data exploration was continued with an effort to propose an embedding length by the following steps. All reviews were combined into a single variable to tokenize. A few calculations were run on the tokenized joined reviews, total length, and average length. The average length plus 1 was the proposed embedding length of 7. "
   ]
  },
  {
   "cell_type": "code",
   "execution_count": 7,
   "id": "24de8a77",
   "metadata": {},
   "outputs": [
    {
     "name": "stdout",
     "output_type": "stream",
     "text": [
      "Embedding length: 7\n"
     ]
    }
   ],
   "source": [
    "text = ' '.join(Amazon['Reviews'])\n",
    "\n",
    "embedding = tf.keras.preprocessing.text.Tokenizer()\n",
    "embedding.fit_on_texts(Amazon['Reviews'])\n",
    "\n",
    "total_length = sum(len(word) for word in embedding.word_index.keys())\n",
    "average_length = total_length / len(embedding.word_index.keys())\n",
    "\n",
    "embedding_length = int(average_length) + 1\n",
    "\n",
    "print(f\"Embedding length: {embedding_length}\")"
   ]
  },
  {
   "cell_type": "markdown",
   "id": "a64bc916",
   "metadata": {},
   "source": [
    "### Statistical justification for the chosen maximum sequence length\n",
    "\n",
    "To find the maximum sequence length a for loop was iterated on all the reviews. The max length of the sequence was calculated by appending the length of the reviews split by a space and finding the max of the list. The max length of the sequence was 30."
   ]
  },
  {
   "cell_type": "code",
   "execution_count": 8,
   "id": "163bcb25",
   "metadata": {},
   "outputs": [
    {
     "name": "stdout",
     "output_type": "stream",
     "text": [
      "Max length of sequence is:  30\n"
     ]
    }
   ],
   "source": [
    "#Webniar referenced for vocabulary size code(Elleh, 2022)\n",
    "review_lenght = []\n",
    "for char_len in Amazon['Reviews']:\n",
    "    review_lenght.append(len(char_len.split(\" \")))\n",
    "    \n",
    "review_max = np.max(review_lenght)\n",
    "\n",
    "print(\"Max length of sequence is: \",review_max)"
   ]
  },
  {
   "cell_type": "markdown",
   "id": "d3a59750",
   "metadata": {},
   "source": [
    "## B2: Tokenization\n",
    "\n",
    "The goal of tokenization according to the TensorFlow natural language processing tutorial, \"represent words in a way that a computer can process them, with a view to later training a neural network that can understand their meaning\"(Natural Language Processing - Tokenization (NLP Zero to Hero - Part 1), 2020). The process started with normalizing the reviews ahead of tokenization by converting them to lowercase, replacing all dashes with spaces, and removing unusual characters not found in a-zA-Z0-9. Next, the normalized reviews were verified if processed correctly. The next steps in normalizing the reviews were to create functions for lemmatization, \"grouping different inflected words together\" (Gillis, 2023), and removing stop words(removing words with very little useful information). The final normalized tokenized reviews had the following stats:\n",
    "\n",
    "- Vocabulary size:  1669\n",
    "- Embedding length: 7\n",
    "- Max length of sequence is:  17"
   ]
  },
  {
   "cell_type": "code",
   "execution_count": 9,
   "id": "300574c4",
   "metadata": {},
   "outputs": [],
   "source": [
    "#Webniar referenced for removing characters code(Elleh, 2022)\n",
    "unusual_chars = re.compile(r\"[^a-zA-Z0-9\\s]+\")\n",
    "\n",
    "reviews_cleaned = []\n",
    "\n",
    "for review in Amazon['Reviews']:\n",
    "    cleaned_review = review.lower()\n",
    "    cleaned_review = cleaned_review.replace(\"-\", \" \")\n",
    "    cleaned_review = unusual_chars.sub('', cleaned_review)\n",
    "    reviews_cleaned.append(cleaned_review)\n",
    "\n",
    "Amazon['Reviews'] = reviews_cleaned"
   ]
  },
  {
   "cell_type": "code",
   "execution_count": 10,
   "id": "caa9e325",
   "metadata": {},
   "outputs": [
    {
     "name": "stdout",
     "output_type": "stream",
     "text": [
      "['s', 'o', ' ', 't', 'h', 'e', 'r', 'i', 'n', 'w', 'a', 'y', 'f', 'm', 'p', 'l', 'u', 'g', 'b', 'c', 'v', 'd', 'x', 'j', '4', '5', 'z', 'q', 'k', '7', '3', '6', '8', '0', '2', '1', '9']\n"
     ]
    }
   ],
   "source": [
    "#Webniar referenced for unusual character code(Elleh, 2022)\n",
    "list_of_characters = []\n",
    "for review in Amazon['Reviews']:\n",
    "    for character in review:\n",
    "        if character not in list_of_characters:\n",
    "            list_of_characters.append(character)\n",
    "print(list_of_characters)"
   ]
  },
  {
   "cell_type": "code",
   "execution_count": 11,
   "id": "e553b536",
   "metadata": {},
   "outputs": [
    {
     "data": {
      "text/html": [
       "<div>\n",
       "<style scoped>\n",
       "    .dataframe tbody tr th:only-of-type {\n",
       "        vertical-align: middle;\n",
       "    }\n",
       "\n",
       "    .dataframe tbody tr th {\n",
       "        vertical-align: top;\n",
       "    }\n",
       "\n",
       "    .dataframe thead th {\n",
       "        text-align: right;\n",
       "    }\n",
       "</style>\n",
       "<table border=\"1\" class=\"dataframe\">\n",
       "  <thead>\n",
       "    <tr style=\"text-align: right;\">\n",
       "      <th></th>\n",
       "      <th>Reviews</th>\n",
       "      <th>Sentiment</th>\n",
       "    </tr>\n",
       "  </thead>\n",
       "  <tbody>\n",
       "    <tr>\n",
       "      <th>0</th>\n",
       "      <td>so there is no way for me to plug it in here i...</td>\n",
       "      <td>0</td>\n",
       "    </tr>\n",
       "    <tr>\n",
       "      <th>1</th>\n",
       "      <td>good case excellent value</td>\n",
       "      <td>1</td>\n",
       "    </tr>\n",
       "    <tr>\n",
       "      <th>2</th>\n",
       "      <td>great for the jawbone</td>\n",
       "      <td>1</td>\n",
       "    </tr>\n",
       "    <tr>\n",
       "      <th>3</th>\n",
       "      <td>tied to charger for conversations lasting more...</td>\n",
       "      <td>0</td>\n",
       "    </tr>\n",
       "    <tr>\n",
       "      <th>4</th>\n",
       "      <td>the mic is great</td>\n",
       "      <td>1</td>\n",
       "    </tr>\n",
       "    <tr>\n",
       "      <th>...</th>\n",
       "      <td>...</td>\n",
       "      <td>...</td>\n",
       "    </tr>\n",
       "    <tr>\n",
       "      <th>995</th>\n",
       "      <td>the screen does get smudged easily because it ...</td>\n",
       "      <td>0</td>\n",
       "    </tr>\n",
       "    <tr>\n",
       "      <th>996</th>\n",
       "      <td>what a piece of junk i lose more calls on this...</td>\n",
       "      <td>0</td>\n",
       "    </tr>\n",
       "    <tr>\n",
       "      <th>997</th>\n",
       "      <td>item does not match picture</td>\n",
       "      <td>0</td>\n",
       "    </tr>\n",
       "    <tr>\n",
       "      <th>998</th>\n",
       "      <td>the only thing that disappoint me is the infra...</td>\n",
       "      <td>0</td>\n",
       "    </tr>\n",
       "    <tr>\n",
       "      <th>999</th>\n",
       "      <td>you can not answer calls with the unit never w...</td>\n",
       "      <td>0</td>\n",
       "    </tr>\n",
       "  </tbody>\n",
       "</table>\n",
       "<p>1000 rows × 2 columns</p>\n",
       "</div>"
      ],
      "text/plain": [
       "                                               Reviews  Sentiment\n",
       "0    so there is no way for me to plug it in here i...          0\n",
       "1                            good case excellent value          1\n",
       "2                                great for the jawbone          1\n",
       "3    tied to charger for conversations lasting more...          0\n",
       "4                                     the mic is great          1\n",
       "..                                                 ...        ...\n",
       "995  the screen does get smudged easily because it ...          0\n",
       "996  what a piece of junk i lose more calls on this...          0\n",
       "997                        item does not match picture          0\n",
       "998  the only thing that disappoint me is the infra...          0\n",
       "999  you can not answer calls with the unit never w...          0\n",
       "\n",
       "[1000 rows x 2 columns]"
      ]
     },
     "execution_count": 11,
     "metadata": {},
     "output_type": "execute_result"
    }
   ],
   "source": [
    "Amazon"
   ]
  },
  {
   "cell_type": "code",
   "execution_count": 12,
   "id": "272d2f25",
   "metadata": {},
   "outputs": [],
   "source": [
    "#stop words for filtering\n",
    "stop_words = stopwords.words('english')\n",
    "\n",
    "processed_reviews = Amazon['Reviews']\n",
    "       \n",
    "#define our lemmatization and stop word removal functions\n",
    "def lemmatized(corpus):\n",
    "    lemmatizer = WordNetLemmatizer()\n",
    "    return [' '.join([lemmatizer.lemmatize(word) for word in review.split()]) for review in corpus]\n",
    "\n",
    "def remove_stop_words(corpus):\n",
    "    removed_stop_words = []\n",
    "    for sentence in corpus:\n",
    "        removed_stop_words.append(\n",
    "            ' '.join([word for word in sentence.split() if word not in stop_words])\n",
    "        )\n",
    "    return removed_stop_words"
   ]
  },
  {
   "cell_type": "code",
   "execution_count": 13,
   "id": "ff4dfb0d",
   "metadata": {},
   "outputs": [
    {
     "name": "stdout",
     "output_type": "stream",
     "text": [
      "good case excellent value\n"
     ]
    }
   ],
   "source": [
    "#Execute the functions\n",
    "processed_reviews = lemmatized(processed_reviews)\n",
    "processed_reviews = remove_stop_words(processed_reviews)\n",
    "\n",
    "#Print an output of the processed reviews\n",
    "print(processed_reviews[1])"
   ]
  },
  {
   "cell_type": "code",
   "execution_count": 14,
   "id": "5e1eb333",
   "metadata": {},
   "outputs": [
    {
     "name": "stdout",
     "output_type": "stream",
     "text": [
      "Vocabulary size:  1669\n",
      "Embedding length: 7\n",
      "Max length of sequence is:  17\n"
     ]
    }
   ],
   "source": [
    "#Vocab size code\n",
    "tokenizer = Tokenizer()\n",
    "tokenizer.fit_on_texts(processed_reviews)\n",
    "\n",
    "#Embedding_length code\n",
    "text = ' '.join(processed_reviews)\n",
    "embedding = tf.keras.preprocessing.text.Tokenizer()\n",
    "embedding.fit_on_texts(processed_reviews)\n",
    "total_length = sum(len(word) for word in embedding.word_index.keys())\n",
    "average_length = total_length / len(embedding.word_index.keys())\n",
    "embedding_length = int(average_length) + 1\n",
    "#Max lenght code\n",
    "review_lenght = []\n",
    "for char_len in processed_reviews:\n",
    "    review_lenght.append(len(char_len.split(\" \")))    \n",
    "review_max = np.max(review_lenght)\n",
    "\n",
    "\n",
    "print(\"Vocabulary size: \", len(tokenizer.word_index) + 1)\n",
    "print(f\"Embedding length: {embedding_length}\")\n",
    "print(\"Max length of sequence is: \",review_max)"
   ]
  },
  {
   "cell_type": "code",
   "execution_count": 15,
   "id": "13b71421",
   "metadata": {},
   "outputs": [],
   "source": [
    "#Tokenize the reviews\n",
    "tokenizer = tf.keras.preprocessing.text.Tokenizer()\n",
    "tokenizer.fit_on_texts(processed_reviews)"
   ]
  },
  {
   "cell_type": "markdown",
   "id": "ae83c5ec",
   "metadata": {},
   "source": [
    "## B3: Padding Process\n",
    "\n",
    "Once the normalization and data preparation are complete the padding process can be implemented on the processed reviews. First texts_to_sequences() function is run on all the processed reviews to create sequences to be inputted into the pad_sequences() function. The padding occurs after the text sequence by selecting padding='post'. An output of a single padded sequence is printed below."
   ]
  },
  {
   "cell_type": "code",
   "execution_count": 16,
   "id": "4d82be8c",
   "metadata": {},
   "outputs": [
    {
     "name": "stdout",
     "output_type": "stream",
     "text": [
      "[  5  15  23 193   0   0   0   0   0   0   0   0   0   0   0   0   0]\n"
     ]
    }
   ],
   "source": [
    "#Article refernced for padding code(Training a model to recognize sentiment in text (NLP Zero to Hero - Part 3), 2020)\n",
    "sequences = tokenizer.texts_to_sequences(processed_reviews)\n",
    "padded = sequence.pad_sequences(sequences, padding='post')\n",
    "vocab_size = len(tokenizer.word_index) + 1\n",
    "print(padded[1])"
   ]
  },
  {
   "cell_type": "markdown",
   "id": "8a86f6f3",
   "metadata": {},
   "source": [
    "## B4: Categories Of Sentiment\n",
    "\n",
    "The data provided has two sentiment values 0 for negative and 1 for positive. Throughout the analysis, the two categories were kept. The final dense layer of the neural network will utilize a sigmoid activation function, according to Saeed, \"A sigmoid function is a guarantee that the output of this unit will always be between 0 and 1\" (Saeed, 2021). This final dense layer activation function will help in the classification of sentiment analysis.\n",
    "\n",
    "## B5: Steps To Prepare The Data\n",
    "\n",
    "- Import necessary packages for sentiment analysis: Pandas, Numpy, Re, Tensorflow, Nltk, Sklearn, Keras, and Matplotlib\n",
    "- Import and perform data exploration:\n",
    "    - Presence of unusual characters\n",
    "    - Vocabulary size\n",
    "    - Proposed word embedding length\n",
    "    - Statistical justification for the chosen maximum sequence length\n",
    "- Normalize review data sentences ahead of tokenization\n",
    "    - Converted sequences to lowercase\n",
    "    - Replaced all dashes with spaces\n",
    "    - Removed unusual characters not found in a-zA-Z0-9\n",
    "    - Lemmatization of sequences\n",
    "    - Removed stop words\n",
    "- Tokenize the normalized processed sequences\n",
    "- Apply post-padding processes to the processed sequences\n",
    "- Reshape the padded sequences to process into training, test, and validation splits\n",
    "- Split data into 80% training data, 10% test, and 10% validation.\n",
    "     - An 80/20 split was utilized with the 20 percent further split evenly into test and validation."
   ]
  },
  {
   "cell_type": "code",
   "execution_count": 17,
   "id": "00081e74",
   "metadata": {},
   "outputs": [],
   "source": [
    "#Reshaping padded reviews \n",
    "padded_array = padded.reshape(1000, 17, 1)\n",
    "\n",
    "review_list = []\n",
    "\n",
    "#Run loop on padded reviews\n",
    "for review in padded_array:\n",
    "    review_list.append(review)\n",
    "\n",
    "Amazon['Reviews'] = review_list \n",
    "\n",
    "X = Amazon['Reviews']\n",
    "y = Amazon['Sentiment']\n",
    "\n",
    "# Splitting data into training 80% and test 20%\n",
    "X_train, X_V, y_train, y_V = train_test_split(X, y, train_size=.8, random_state=1)\n",
    "#Further splitting the 20% into 10% validation and 10% testing \n",
    "X_valid, X_test, y_valid, y_test = train_test_split(X_V, y_V, train_size=.5, random_state=1)"
   ]
  },
  {
   "cell_type": "code",
   "execution_count": 18,
   "id": "72bbab34",
   "metadata": {},
   "outputs": [],
   "source": [
    "#Reshaping the split for use in the tenserflow model\n",
    "X_train = np.array(X_train.values.tolist()).reshape(X_train.shape[0], 17, 1)\n",
    "y_train = np.array(y_train.values.tolist()).reshape(y_train.shape[0], 1)\n",
    "X_valid = np.array(X_valid.values.tolist()).reshape(X_valid.shape[0], 17, 1)\n",
    "y_valid = np.array(y_valid.values.tolist()).reshape(y_valid.shape[0], 1)\n",
    "X_test = np.array(X_test.values.tolist()).reshape(X_test.shape[0], 17, 1)\n",
    "y_test = np.array(y_test.values.tolist()).reshape(y_test.shape[0], 1)"
   ]
  },
  {
   "cell_type": "markdown",
   "id": "5c91abe7",
   "metadata": {},
   "source": [
    "## B6: Prepared Data Set"
   ]
  },
  {
   "cell_type": "code",
   "execution_count": 19,
   "id": "4b287c4e",
   "metadata": {},
   "outputs": [],
   "source": [
    "#Save prepared Sentiment Analysis dataset to CSV \n",
    "Amazon.to_csv('C:/Users/alexa/WGU/D213/Project/Sentiment_Analysis_Prepared.csv', index=False)"
   ]
  },
  {
   "cell_type": "markdown",
   "id": "9de6d638",
   "metadata": {},
   "source": [
    "## C1: Model Summary"
   ]
  },
  {
   "cell_type": "code",
   "execution_count": 20,
   "id": "5dd136b9",
   "metadata": {},
   "outputs": [
    {
     "name": "stdout",
     "output_type": "stream",
     "text": [
      "WARNING:tensorflow:From C:\\Users\\alexa\\anaconda3\\lib\\site-packages\\keras\\src\\backend.py:873: The name tf.get_default_graph is deprecated. Please use tf.compat.v1.get_default_graph instead.\n",
      "\n"
     ]
    }
   ],
   "source": [
    "#Article refernced for RNN code (Text classification with an RNN : tensorflow, 2023)\n",
    "model_sequential = Sequential()\n",
    "embedding_layer = Embedding(input_dim=vocab_size, output_dim=200, input_length=17)\n",
    "model_sequential.add(embedding_layer)\n",
    "\n",
    "model_sequential.add(Bidirectional(LSTM(50)))\n",
    "model_sequential.add(Dense(25))\n",
    "model_sequential.add(Dense(1, activation='sigmoid'))"
   ]
  },
  {
   "cell_type": "code",
   "execution_count": 21,
   "id": "15cf016f",
   "metadata": {},
   "outputs": [
    {
     "name": "stdout",
     "output_type": "stream",
     "text": [
      "WARNING:tensorflow:From C:\\Users\\alexa\\anaconda3\\lib\\site-packages\\keras\\src\\optimizers\\__init__.py:309: The name tf.train.Optimizer is deprecated. Please use tf.compat.v1.train.Optimizer instead.\n",
      "\n",
      "Model: \"sequential\"\n",
      "_________________________________________________________________\n",
      " Layer (type)                Output Shape              Param #   \n",
      "=================================================================\n",
      " embedding (Embedding)       (None, 17, 200)           333800    \n",
      "                                                                 \n",
      " bidirectional (Bidirection  (None, 100)               100400    \n",
      " al)                                                             \n",
      "                                                                 \n",
      " dense (Dense)               (None, 25)                2525      \n",
      "                                                                 \n",
      " dense_1 (Dense)             (None, 1)                 26        \n",
      "                                                                 \n",
      "=================================================================\n",
      "Total params: 436751 (1.67 MB)\n",
      "Trainable params: 436751 (1.67 MB)\n",
      "Non-trainable params: 0 (0.00 Byte)\n",
      "_________________________________________________________________\n",
      "None\n"
     ]
    }
   ],
   "source": [
    "#Webniar referenced for model summary code(Elleh, 2022)\n",
    "model_sequential.compile(optimizer='adam', loss='binary_crossentropy', metrics=['acc'])\n",
    "\n",
    "print(model_sequential.summary())"
   ]
  },
  {
   "cell_type": "markdown",
   "id": "4b7b6bf1",
   "metadata": {},
   "source": [
    "## C2: Network Architecture\n",
    "\n",
    "The network architecture is implemented as a recurrent neural network. Tensorflow published a tutorial on implementing a neural network for text classification, and a similar RNN architecture was implemented(Text classification with an RNN: TensorFlow, 2023). The four layers were made up of 1st embedding, 2nd bidirectional(hidden), 3rd Dense(hidden), and 4th Dense(output). Additional stats of the layers are below:\n",
    "\n",
    "- 1st Layer: Core type = Embedding\n",
    "\n",
    "    - Layer type = Input\n",
    "    - Number of Parameters = 333,800\n",
    "     \n",
    "- 2nd Layer: Core type = Bidirectional\n",
    "\n",
    "    - Layer type = Hidden\n",
    "    - Number of Parameters = 100,400\n",
    "\n",
    "- 3rd Layer: Core type = Dense\n",
    "\n",
    "    - Layer type = Hidden\n",
    "    - Number of Parameters = 2,525\n",
    "    \n",
    "- 4th Layer: Core type = Dense\n",
    "\n",
    "    - Layer type = Output\n",
    "    - Number of Parameters = 26\n",
    "\n",
    "## C3: Hyperparameters\n",
    "\n",
    "### Activation functions\n",
    "\n",
    "The activation function implemented on the final layer was sigmoid, this function works particularly well for binary classification. The inputs of the function are turned into outputs ranging from 0-1 and are referred to as a \"squashing function\" (Buhl, 2023). \n",
    "\n",
    "### Number of nodes per layer\n",
    "\n",
    "The number of nodes per layer was chosen by experimentation and following a few tutorials on neural network sentiment analysis. In Dr. Elleh's and Tenserflow's examples, all nodes started with an input layer of 100-200 and were reduced by half in the hidden layer to finish with a single layer for classification (Text classification with an RNN: TensorFlow, 2023). The following node counts were finalized due to the accuracy: 1st layer 200 nodes, 2nd layer 100 nodes, 3rd layer 50 nodes, and 4th layer 1 node.\n",
    "\n",
    "###  Loss function\n",
    "\n",
    "Dr. Elleh's webinar highlighted three loss function parameters to review. The loss function selected was binary_crossentropy due to it's performance in classification analysis(Elleh, 2022). All other loss functions were either multi-class or worked on integers which would not fit the analysis. \n",
    "\n",
    "### Optimizer\n",
    "\n",
    "Choosing Adam as an optimizer was quick after some research. Brownlee highlighted the optimizer is straightforward and efficient to implement and, \"Empirical results demonstrate that Adam works well in practice and compares favorably to other stochastic optimization methods\" (Brownlee, 2021). \n",
    "\n",
    "###  Stopping criteria\n",
    "\n",
    "The stopping criteria parameter implemented was early stopping with a patience of two. This will allow the model to monitor if the validation score does not improve for two epochs and avoid overfitting by stopping. Code for EarlyStopping below:"
   ]
  },
  {
   "cell_type": "code",
   "execution_count": 22,
   "id": "b2aefb71",
   "metadata": {},
   "outputs": [],
   "source": [
    "#Webniar referenced for early stopping code(Elleh, 2022)\n",
    "early_stopping_monitor = EarlyStopping(patience=2)"
   ]
  },
  {
   "cell_type": "markdown",
   "id": "29dc20f4",
   "metadata": {},
   "source": [
    "### Evaluation metric\n",
    "\n",
    "The evaluation metric chosen for the analysis is accuracy. It's a simple and effective metric that could be applied to the training and validation/test sets. Dr. Elleh's classification accuracry definition is,\"the ratio of the number of correct predictions to the total number of input samples\" (Elleh, 2022). "
   ]
  },
  {
   "cell_type": "markdown",
   "id": "61bd29dd",
   "metadata": {},
   "source": [
    "## D1: Stopping Criteria\n",
    "\n",
    "The model is fit on the training and validation dataset splits with 25 epochs as a parameter. If no stopping criteria were implemented the model will continue to train through the 25 epochs regardless of the validation accuracy dropping or not increasing. The stopping criteria of EarlyStopping(patience=2) was implemented, so the model would stop training if there was no improvement after two epochs. The impact of the patience of two is that the model trained to 5 out of 25 epochs due to no improvement from the fourth epoch valuation accuracy of 0.82 and the fifth valuation accuracy of 0.82."
   ]
  },
  {
   "cell_type": "code",
   "execution_count": 23,
   "id": "713b6df6",
   "metadata": {},
   "outputs": [
    {
     "name": "stdout",
     "output_type": "stream",
     "text": [
      "Epoch 1/25\n",
      "WARNING:tensorflow:From C:\\Users\\alexa\\anaconda3\\lib\\site-packages\\keras\\src\\utils\\tf_utils.py:492: The name tf.ragged.RaggedTensorValue is deprecated. Please use tf.compat.v1.ragged.RaggedTensorValue instead.\n",
      "\n",
      "WARNING:tensorflow:From C:\\Users\\alexa\\anaconda3\\lib\\site-packages\\keras\\src\\engine\\base_layer_utils.py:384: The name tf.executing_eagerly_outside_functions is deprecated. Please use tf.compat.v1.executing_eagerly_outside_functions instead.\n",
      "\n",
      "25/25 [==============================] - 3s 34ms/step - loss: 0.6860 - acc: 0.5525 - val_loss: 0.6692 - val_acc: 0.7500\n",
      "Epoch 2/25\n",
      "25/25 [==============================] - 0s 7ms/step - loss: 0.5410 - acc: 0.8712 - val_loss: 0.4825 - val_acc: 0.7900\n",
      "Epoch 3/25\n",
      "25/25 [==============================] - 0s 7ms/step - loss: 0.2176 - acc: 0.9237 - val_loss: 0.4105 - val_acc: 0.8000\n",
      "Epoch 4/25\n",
      "25/25 [==============================] - 0s 7ms/step - loss: 0.0851 - acc: 0.9737 - val_loss: 0.4701 - val_acc: 0.8200\n",
      "Epoch 5/25\n",
      "25/25 [==============================] - 0s 7ms/step - loss: 0.0404 - acc: 0.9887 - val_loss: 0.6004 - val_acc: 0.8200\n"
     ]
    }
   ],
   "source": [
    "#Webniar referenced for fitting code(Elleh, 2022)\n",
    "results = model_sequential.fit(X_train, y_train,\n",
    "                    validation_data= (X_valid, y_valid),\n",
    "                    epochs=25, callbacks=early_stopping_monitor)"
   ]
  },
  {
   "cell_type": "markdown",
   "id": "c304cccc",
   "metadata": {},
   "source": [
    "## D2: Fitness\n",
    "\n",
    "The final model's fitness was trained to 4 epochs due to the early stopping patience discussed in section D1. The accuracy of the training data was 0.973 and the validation data was 0.82. To prevent overfitting the following measures were taken to prevent it: the architecture of the neural network and stopping criteria. The architecture followed was a guideline for text classification by Tensorflow, the number of layers and nodes were tweaked for the needs of analysis(Text classification with an RNN: TensorFlow, 2023). Through experimentation, the nodes of the layers were adjusted while reviewing the loss and accuracy of the final model. The ratio of nodes from the first to the last layer was kept roughly aligned throughout the experimentation. The stopping criteria had the biggest impact on addressing overfitting in the final model. Without the patience of 2 implemented the model would have continued to run for 21 more epochs. The model could be improved further with a better understanding of the hyperparameters that make up a good RNN for sentiment analysis or with a large sample size to train and validate. \n",
    "\n",
    "## D3: Training Process"
   ]
  },
  {
   "cell_type": "code",
   "execution_count": 24,
   "id": "41e459a6",
   "metadata": {},
   "outputs": [
    {
     "data": {
      "image/png": "[encoded data removed]",
      "text/plain": [
       "<Figure size 640x480 with 1 Axes>"
      ]
     },
     "metadata": {},
     "output_type": "display_data"
    }
   ],
   "source": [
    "plt.plot(results.history['acc'], label= \"Training\")\n",
    "plt.plot(results.history['val_acc'], label= \"Validation\")\n",
    "plt.xlabel(\"Epochs\")\n",
    "plt.ylabel(\"Accuracy\")\n",
    "plt.legend()\n",
    "plt.title(\"Accuracy of Training Model Across Epochs\")\n",
    "plt.show()"
   ]
  },
  {
   "cell_type": "code",
   "execution_count": 25,
   "id": "31f212ae",
   "metadata": {},
   "outputs": [
    {
     "data": {
      "image/png": "[encoded data removed]",
      "text/plain": [
       "<Figure size 640x480 with 1 Axes>"
      ]
     },
     "metadata": {},
     "output_type": "display_data"
    }
   ],
   "source": [
    "plt.plot(results.history['loss'], label= \"Training\")\n",
    "plt.plot(results.history['val_loss'], label= \"Validation\")\n",
    "plt.xlabel(\"Epochs\")\n",
    "plt.ylabel(\"Loss\")\n",
    "plt.legend()\n",
    "plt.title(\"Loss of Training Model Across Epochs\")\n",
    "plt.show()"
   ]
  },
  {
   "cell_type": "code",
   "execution_count": 26,
   "id": "124310f5",
   "metadata": {},
   "outputs": [
    {
     "name": "stdout",
     "output_type": "stream",
     "text": [
      "4/4 [==============================] - 0s 4ms/step - loss: 0.9965 - acc: 0.7600\n"
     ]
    }
   ],
   "source": [
    "#Webniar referenced for score code(Elleh, 2022)\n",
    "score = model_sequential.evaluate(X_test, y_test)"
   ]
  },
  {
   "cell_type": "markdown",
   "id": "a7da7c3a",
   "metadata": {},
   "source": [
    "## D4: Predictive Accuracy\n",
    "\n",
    "The evaluation metric chosen for the final model was accurate. The final model was fitted with the test data and had a predictive accuracy of 0.76 and a loss of 0.997. To assist in visualizing the predictions a confusion matrix was created below. "
   ]
  },
  {
   "cell_type": "code",
   "execution_count": 27,
   "id": "3d683573",
   "metadata": {},
   "outputs": [
    {
     "name": "stdout",
     "output_type": "stream",
     "text": [
      "4/4 [==============================] - 1s 3ms/step\n"
     ]
    }
   ],
   "source": [
    "y_pred = model_sequential.predict(X_test)"
   ]
  },
  {
   "cell_type": "code",
   "execution_count": 28,
   "id": "1dd56bc7",
   "metadata": {},
   "outputs": [
    {
     "name": "stdout",
     "output_type": "stream",
     "text": [
      "[[42 17]\n",
      " [ 7 34]]\n"
     ]
    }
   ],
   "source": [
    "y_pred = np.rint(y_pred)\n",
    "Matrix = confusion_matrix(y_test, y_pred)\n",
    "print(Matrix)"
   ]
  },
  {
   "cell_type": "markdown",
   "id": "4e237c55",
   "metadata": {},
   "source": [
    "## E: Code"
   ]
  },
  {
   "cell_type": "code",
   "execution_count": 29,
   "id": "e51e38f5",
   "metadata": {},
   "outputs": [
    {
     "name": "stderr",
     "output_type": "stream",
     "text": [
      "C:\\Users\\alexa\\anaconda3\\lib\\site-packages\\keras\\src\\engine\\training.py:3103: UserWarning: You are saving your model as an HDF5 file via `model.save()`. This file format is considered legacy. We recommend using instead the native Keras format, e.g. `model.save('my_model.keras')`.\n",
      "  saving_api.save_model(\n"
     ]
    }
   ],
   "source": [
    "#Save the model h5 file for submission\n",
    "model_sequential.save(\"C:/Users/alexa/WGU/D213/Project/Sentiment_Analysis_Model.h5\")"
   ]
  },
  {
   "cell_type": "markdown",
   "id": "fd88be51",
   "metadata": {},
   "source": [
    "## F: Functionality\n",
    "\n",
    "The initial dataset had 1,000 Amazon reviews, the final model was trained on 800, tested, and validated on 100 reviews each. The neural network architecture was kept simple and the focus of implementing it for NLP analysis. TensorFlow provided guidelines to apply the effective four layers implemented. The hyperparameters continued to focus on classification by implementing a loss function of binary_crossentropy and a final layer including a sigmoid activation function. All these efforts led to a model that was able to predict customer sentiment due to its binary nature. \n",
    "\n",
    "## G: Recommendations\n",
    "\n",
    "The final model can predict customer sentiment at an accuracy of 76% just short of 4% of the goal of 80%. While the model did fall short of the goal, the model does provide predicted value in its current state. The recommendation is to continue hyper-tuning the neural network model to provide parameters to lead to higher accuracy while avoiding overfitting. The RNN architecture is simple with minimal layers that reaching the 80% goal could be as easy as reviewing nodes or activation functions. \n",
    "\n",
    "## H: Reporting\n",
    "\n",
    "Included alongside the executed Jupyter ipynb notebook is a PDF report. \n",
    "\n",
    "## I: Sources For Third-Party Code\n",
    " \n",
    "Elleh, F. (2023, November). Advanced Data Analytics - Task 2. https://my.wgu.edu/. Retrieved December 27, 2023, from https://srm.file.force.com/servlet/servlet.FileDownload?retURL=https%3A%2F%2Fsrm--c.vf.force.com%2Fapex%2FFDP%2FCommonsExpandedChatter%3Fcode%3DD213&file=00P3x00001w6g1FEAQ&_CONFIRMATIONTOKEN=VmpFPSxNakF5TXkweE1pMHpNVlF3TlRveU5Eb3dPQzQxT0RCYSxMczlyejZqQkx4RVVFRHhua1dQNldVRWhWWGdtano2WFk1NVVhQVVoWmxNPSxZVEJoTmpobQ%3D%3D&common.udd.actions.ActionsUtilORIG_URI=%2Fservlet%2Fservlet.FileDownload. \n",
    "\n",
    "Natural Language Processing - Tokenization (NLP Zero to Hero - Part 1). (2020). YouTube. Retrieved December 27, 2023, from https://youtu.be/fNxaJsNG3-s?si=9RMR-PkeEAAR1we0. \n",
    "\n",
    "Text classification with an RNN: tensorflow. TensorFlow. (2023). https://www.tensorflow.org/text/tutorials/text_classification_rnn \n",
    "\n",
    "Training a model to recognize sentiment in text (NLP Zero to Hero - Part 3). (2020). YouTube. Retrieved December 27, 2023, from https://youtu.be/Y_hzMnRXjhI?si=ocOmR8Z91UvVqoYR. \n",
    "\n",
    "## J: Sources\n",
    "\n",
    "Brownlee, J. (2021, January 12). Gentle introduction to the adam optimization algorithm for deep learning. MachineLearningMastery.com. https://machinelearningmastery.com/adam-optimization-algorithm-for-deep-learning/ \n",
    "\n",
    "Buhl, N. (2023, July 25). Activation functions in neural networks: With 15 examples. Encord. https://encord.com/blog/activation-functions-neural-networks/ \n",
    "\n",
    "Elleh, F. (2023, November). Advanced Data Analytics - Task 2. https://my.wgu.edu/. Retrieved December 27, 2023, from https://srm.file.force.com/servlet/servlet.FileDownload?retURL=https%3A%2F%2Fsrm--c.vf.force.com%2Fapex%2FFDP%2FCommonsExpandedChatter%3Fcode%3DD213&file=00P3x00001w6g1FEAQ&_CONFIRMATIONTOKEN=VmpFPSxNakF5TXkweE1pMHpNVlF3TlRveU5Eb3dPQzQxT0RCYSxMczlyejZqQkx4RVVFRHhua1dQNldVRWhWWGdtano2WFk1NVVhQVVoWmxNPSxZVEJoTmpobQ%3D%3D&common.udd.actions.ActionsUtilORIG_URI=%2Fservlet%2Fservlet.FileDownload. \n",
    "\n",
    "Gillis, A. S. (2023, March 13). What is lemmatization?: Definition from TechTarget. Enterprise AI. https://www.techtarget.com/searchenterpriseai/definition/lemmatization \n",
    "\n",
    "Saeed, M. (2021, August 17). A gentle introduction to sigmoid function. MachineLearningMastery.com. https://machinelearningmastery.com/a-gentle-introduction-to-sigmoid-function/ \n",
    "\n",
    "Talaviya, A. (2023, December 12). Understanding word embeddings and building your first RNN model. Analytics Vidhya. https://www.analyticsvidhya.com/blog/2022/09/understanding-word-embeddings-and-building-your-first-rnn-model/ \n"
   ]
  },
  {
   "cell_type": "markdown",
   "id": "df953a6d",
   "metadata": {},
   "source": [
    " "
   ]
  }
 ],
 "metadata": {
  "kernelspec": {
   "display_name": "Python 3 (ipykernel)",
   "language": "python",
   "name": "python3"
  },
  "language_info": {
   "codemirror_mode": {
    "name": "ipython",
    "version": 3
   },
   "file_extension": ".py",
   "mimetype": "text/x-python",
   "name": "python",
   "nbconvert_exporter": "python",
   "pygments_lexer": "ipython3",
   "version": "3.10.9"
  }
 },
 "nbformat": 4,
 "nbformat_minor": 5
}
